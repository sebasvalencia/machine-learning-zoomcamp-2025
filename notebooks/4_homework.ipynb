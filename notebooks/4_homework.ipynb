{
 "cells": [
  {
   "cell_type": "markdown",
   "id": "243b3cfa",
   "metadata": {},
   "source": [
    "## Homework\n",
    "\n",
    "> Note: sometimes your answer doesn't match one of \n",
    "> the options exactly. That's fine. \n",
    "> Select the option that's closest to your solution.\n",
    "\n",
    "In this dataset our desired target for classification task will be `converted` variable - has the client signed up to the platform or not. \n",
    "\n",
    "### Data preparation\n",
    "\n",
    "* Check if the missing values are presented in the features.\n",
    "* If there are missing values:\n",
    "    * For caterogiral features, replace them with 'NA'\n",
    "    * For numerical features, replace with with 0.0 \n",
    "\n",
    "Split the data into 3 parts: train/validation/test with 60%/20%/20% distribution. Use `train_test_split` function for that with `random_state=1`\n"
   ]
  },
  {
   "cell_type": "markdown",
   "id": "7a41c499",
   "metadata": {},
   "source": []
  },
  {
   "cell_type": "markdown",
   "id": "3c9c541a",
   "metadata": {},
   "source": [
    "### Question 1: ROC AUC feature importance\n",
    "\n",
    "ROC AUC could also be used to evaluate feature importance of numerical variables. \n",
    "\n",
    "Let's do that\n",
    "\n",
    "* For each numerical variable, use it as score (aka prediction) and compute the AUC with the `y` variable as ground truth.\n",
    "* Use the training dataset for that\n",
    "\n",
    "\n",
    "If your AUC is < 0.5, invert this variable by putting \"-\" in front\n",
    "\n",
    "(e.g. `-df_train['balance']`)\n",
    "\n",
    "AUC can go below 0.5 if the variable is negatively correlated with the target variable. You can change the direction of the correlation by negating this variable - then negative correlation becomes positive.\n",
    "\n",
    "Which numerical variable (among the following 4) has the highest AUC?\n",
    "\n",
    "- `lead_score`\n",
    "- `number_of_courses_viewed`\n",
    "- `interaction_count`\n",
    "- `annual_income`"
   ]
  },
  {
   "cell_type": "code",
   "execution_count": 22,
   "id": "40b1972e",
   "metadata": {},
   "outputs": [],
   "source": [
    "import pandas as pd\n",
    "from sklearn.metrics import roc_auc_score\n",
    "from sklearn.model_selection import train_test_split\n",
    "from sklearn.feature_extraction import DictVectorizer\n",
    "from sklearn.linear_model import LogisticRegression\n",
    "from sklearn.metrics import roc_auc_score\n",
    "import numpy as np\n",
    "import matplotlib.pyplot as plt\n",
    "from sklearn.model_selection import KFold\n"
   ]
  },
  {
   "cell_type": "code",
   "execution_count": 23,
   "id": "280c9767",
   "metadata": {},
   "outputs": [
    {
     "name": "stdout",
     "output_type": "stream",
     "text": [
      "Dataset columns:\n",
      "['lead_source', 'industry', 'number_of_courses_viewed', 'annual_income', 'employment_status', 'location', 'interaction_count', 'lead_score', 'converted']\n",
      "\n",
      "Dataset shape: (1462, 9)\n",
      "\n",
      "First few rows:\n",
      "    lead_source    industry  number_of_courses_viewed  annual_income  \\\n",
      "0      paid_ads         NaN                         1        79450.0   \n",
      "1  social_media      retail                         1        46992.0   \n",
      "2        events  healthcare                         5        78796.0   \n",
      "3      paid_ads      retail                         2        83843.0   \n",
      "4      referral   education                         3        85012.0   \n",
      "\n",
      "  employment_status       location  interaction_count  lead_score  converted  \n",
      "0        unemployed  south_america                  4        0.94          1  \n",
      "1          employed  south_america                  1        0.80          0  \n",
      "2        unemployed      australia                  3        0.69          1  \n",
      "3               NaN      australia                  1        0.87          0  \n",
      "4     self_employed         europe                  3        0.62          1  \n"
     ]
    }
   ],
   "source": [
    "df = pd.read_csv('../data/course_lead_scoring.csv')\n",
    "print(\"Dataset columns:\")\n",
    "print(df.columns.tolist())\n",
    "print(\"\\nDataset shape:\", df.shape)\n",
    "print(\"\\nFirst few rows:\")\n",
    "print(df.head())"
   ]
  },
  {
   "cell_type": "code",
   "execution_count": 24,
   "id": "d28cefad",
   "metadata": {},
   "outputs": [
    {
     "name": "stdout",
     "output_type": "stream",
     "text": [
      "Missing values in numerical columns:\n",
      "lead_score: 0 (0.0%)\n",
      "number_of_courses_viewed: 0 (0.0%)\n",
      "interaction_count: 0 (0.0%)\n",
      "annual_income: 181 (12.4%)\n",
      "\n",
      "Sample of annual_income column:\n",
      "count      1281.000000\n",
      "mean      59886.273224\n",
      "std       15070.140389\n",
      "min       13929.000000\n",
      "25%       49698.000000\n",
      "50%       60148.000000\n",
      "75%       69639.000000\n",
      "max      109899.000000\n",
      "Name: annual_income, dtype: float64\n"
     ]
    }
   ],
   "source": [
    "numerical = ['lead_score', 'number_of_courses_viewed', 'interaction_count', 'annual_income']\n",
    "print(\"Missing values in numerical columns:\")\n",
    "for col in numerical:\n",
    "    missing = df[col].isnull().sum()\n",
    "    print(f'{col}: {missing} ({missing/len(df)*100:.1f}%)')\n",
    "\n",
    "print(\"\\nSample of annual_income column:\")\n",
    "print(df['annual_income'].describe())"
   ]
  },
  {
   "cell_type": "code",
   "execution_count": 25,
   "id": "809ad59b",
   "metadata": {},
   "outputs": [
    {
     "name": "stdout",
     "output_type": "stream",
     "text": [
      "ROC AUC scores for numerical variables:\n",
      "lead_score: 0.6148\n",
      "number_of_courses_viewed: 0.7608\n",
      "interaction_count: 0.7223\n",
      "annual_income: 0.5426\n"
     ]
    }
   ],
   "source": [
    "df_train = pd.read_csv('../data/course_lead_scoring.csv')\n",
    "numerical = ['lead_score', 'number_of_courses_viewed', 'interaction_count', 'annual_income']\n",
    "for col in numerical:\n",
    "    df_train[col] = df_train[col].fillna(0.0)\n",
    "\n",
    "print(\"ROC AUC scores for numerical variables:\")\n",
    "for col in numerical:\n",
    "    auc = roc_auc_score(df_train['converted'], df_train[col])\n",
    "    if auc < 0.5:\n",
    "        auc = roc_auc_score(df_train['converted'], -df_train[col])\n",
    "        print(f'{col}: {auc:.4f} (inverted)')\n",
    "    else:\n",
    "        print(f'{col}: {auc:.4f}')"
   ]
  },
  {
   "cell_type": "markdown",
   "id": "f9f54845",
   "metadata": {},
   "source": [
    "### Question 2: Training the model\n",
    "\n",
    "Apply one-hot-encoding using `DictVectorizer` and train the logistic regression with these parameters:\n",
    "\n",
    "```python\n",
    "LogisticRegression(solver='liblinear', C=1.0, max_iter=1000)\n",
    "```\n",
    "\n",
    "What's the AUC of this model on the validation dataset? (round to 3 digits)\n",
    "\n",
    "- 0.32\n",
    "- 0.52\n",
    "- 0.72\n",
    "- 0.92"
   ]
  },
  {
   "cell_type": "code",
   "execution_count": 26,
   "id": "75b92547",
   "metadata": {},
   "outputs": [
    {
     "name": "stdout",
     "output_type": "stream",
     "text": [
      "Missing values by column:\n",
      "lead_source                 128\n",
      "industry                    134\n",
      "number_of_courses_viewed      0\n",
      "annual_income               181\n",
      "employment_status           100\n",
      "location                     63\n",
      "interaction_count             0\n",
      "lead_score                    0\n",
      "converted                     0\n",
      "dtype: int64\n",
      "\n",
      "Data types:\n",
      "lead_source                  object\n",
      "industry                     object\n",
      "number_of_courses_viewed      int64\n",
      "annual_income               float64\n",
      "employment_status            object\n",
      "location                     object\n",
      "interaction_count             int64\n",
      "lead_score                  float64\n",
      "converted                     int64\n",
      "dtype: object\n",
      "\n",
      "Missing values after cleaning:\n",
      "lead_source                 0\n",
      "industry                    0\n",
      "number_of_courses_viewed    0\n",
      "annual_income               0\n",
      "employment_status           0\n",
      "location                    0\n",
      "interaction_count           0\n",
      "lead_score                  0\n",
      "converted                   0\n",
      "dtype: int64\n",
      "\n",
      "Data split sizes:\n",
      "Train: 876 (60%)\n",
      "Validation: 293 (20%)\n",
      "Test: 293 (20%)\n",
      "\n",
      "Feature matrix shapes:\n",
      "X_train: (876, 31)\n",
      "X_val: (293, 31)\n",
      "\n",
      "Validation AUC: 0.817\n"
     ]
    }
   ],
   "source": [
    "df = pd.read_csv('../data/course_lead_scoring.csv')\n",
    "\n",
    "print(\"Missing values by column:\")\n",
    "print(df.isnull().sum())\n",
    "print(\"\\nData types:\")\n",
    "print(df.dtypes)\n",
    "\n",
    "categorical = ['lead_source', 'industry', 'employment_status', 'location']\n",
    "numerical = ['number_of_courses_viewed', 'annual_income', 'interaction_count', 'lead_score']\n",
    "\n",
    "for col in categorical:\n",
    "    df[col] = df[col].fillna('NA')\n",
    "\n",
    "for col in numerical:\n",
    "    df[col] = df[col].fillna(0.0)\n",
    "\n",
    "print(\"\\nMissing values after cleaning:\")\n",
    "print(df.isnull().sum())\n",
    "\n",
    "df_full_train, df_test = train_test_split(df, test_size=0.2, random_state=1)\n",
    "df_train, df_val = train_test_split(df_full_train, test_size=0.25, random_state=1)\n",
    "\n",
    "print(f\"\\nData split sizes:\")\n",
    "print(f\"Train: {len(df_train)} ({len(df_train)/len(df)*100:.0f}%)\")\n",
    "print(f\"Validation: {len(df_val)} ({len(df_val)/len(df)*100:.0f}%)\")\n",
    "print(f\"Test: {len(df_test)} ({len(df_test)/len(df)*100:.0f}%)\")\n",
    "\n",
    "df_train_features = df_train.drop('converted', axis=1)\n",
    "df_val_features = df_val.drop('converted', axis=1)\n",
    "\n",
    "y_train = df_train['converted'].values\n",
    "y_val = df_val['converted'].values\n",
    "\n",
    "dv = DictVectorizer(sparse=False)\n",
    "X_train = dv.fit_transform(df_train_features.to_dict(orient='records'))\n",
    "X_val = dv.transform(df_val_features.to_dict(orient='records'))\n",
    "\n",
    "print(f\"\\nFeature matrix shapes:\")\n",
    "print(f\"X_train: {X_train.shape}\")\n",
    "print(f\"X_val: {X_val.shape}\")\n",
    "\n",
    "model = LogisticRegression(solver='liblinear', C=1.0, max_iter=1000)\n",
    "model.fit(X_train, y_train)\n",
    "\n",
    "y_pred = model.predict_proba(X_val)[:, 1]\n",
    "auc = roc_auc_score(y_val, y_pred)\n",
    "print(f'\\nValidation AUC: {auc:.3f}')"
   ]
  },
  {
   "cell_type": "markdown",
   "id": "0401ace2",
   "metadata": {},
   "source": [
    "### Question 3: Precision and Recall\n",
    "\n",
    "Now let's compute precision and recall for our model.\n",
    "\n",
    "* Evaluate the model on all thresholds from 0.0 to 1.0 with step 0.01\n",
    "* For each threshold, compute precision and recall\n",
    "* Plot them\n",
    "\n",
    "At which threshold precision and recall curves intersect?\n",
    "\n",
    "* 0.145\n",
    "* 0.345\n",
    "* 0.545\n",
    "* 0.745"
   ]
  },
  {
   "cell_type": "code",
   "execution_count": 27,
   "id": "bd385ff3",
   "metadata": {},
   "outputs": [
    {
     "data": {
      "image/png": "[encoded data removed]",
      "text/plain": [
       "<Figure size 640x480 with 1 Axes>"
      ]
     },
     "metadata": {},
     "output_type": "display_data"
    },
    {
     "name": "stdout",
     "output_type": "stream",
     "text": [
      "Precision and Recall intersect at threshold: 0.640 (Precision: 0.779, Recall: 0.784)\n",
      "Precision and Recall intersect at threshold: 0.980 (Precision: 0.000, Recall: 0.000)\n",
      "Precision and Recall intersect at threshold: 0.990 (Precision: 0.000, Recall: 0.000)\n",
      "Precision and Recall intersect at threshold: 1.000 (Precision: 0.000, Recall: 0.000)\n"
     ]
    }
   ],
   "source": [
    "thresholds = np.arange(0.0, 1.01, 0.01)\n",
    "precisions = []\n",
    "recalls = []\n",
    "for t in thresholds:\n",
    "    y_pred_thresholded = (y_pred >= t).astype(int)\n",
    "    tp = ((y_val == 1) & (y_pred_thresholded == 1)).sum()\n",
    "    fp = ((y_val == 0) & (y_pred_thresholded == 1)).sum()\n",
    "    fn = ((y_val == 1) & (y_pred_thresholded == 0)).sum()\n",
    "    \n",
    "    precision = tp / (tp + fp) if (tp + fp) > 0 else 0\n",
    "    recall = tp / (tp + fn) if (tp + fn) > 0 else 0\n",
    "    \n",
    "    precisions.append(precision)\n",
    "    recalls.append(recall)\n",
    "plt.plot(thresholds, precisions, label='Precision')\n",
    "plt.plot(thresholds, recalls, label='Recall')\n",
    "plt.xlabel('Threshold')\n",
    "plt.ylabel('Score')\n",
    "plt.title('Precision and Recall vs Threshold')\n",
    "plt.legend()\n",
    "plt.grid()\n",
    "plt.show()\n",
    "\n",
    "for t, p, r in zip(thresholds, precisions, recalls):\n",
    "    if abs(p - r) < 0.01:\n",
    "        print(f'Precision and Recall intersect at threshold: {t:.3f} (Precision: {p:.3f}, Recall: {r:.3f})')\n"
   ]
  },
  {
   "cell_type": "markdown",
   "id": "e397c675",
   "metadata": {},
   "source": [
    "### Question 4: F1 score\n",
    "\n",
    "Precision and recall are conflicting - when one grows, the other goes down. That's why they are often combined into the F1 score - a metrics that takes into account both\n",
    "\n",
    "This is the formula for computing F1:\n",
    "\n",
    "$$F_1 = 2 \\cdot \\cfrac{P \\cdot R}{P + R}$$\n",
    "\n",
    "Where $P$ is precision and $R$ is recall.\n",
    "\n",
    "Let's compute F1 for all thresholds from 0.0 to 1.0 with increment 0.01\n",
    "\n",
    "At which threshold F1 is maximal?\n",
    "\n",
    "- 0.14\n",
    "- 0.34\n",
    "- 0.54\n",
    "- 0.74"
   ]
  },
  {
   "cell_type": "code",
   "execution_count": 28,
   "id": "d155d3f9",
   "metadata": {},
   "outputs": [
    {
     "data": {
      "image/png": "[encoded data removed]",
      "text/plain": [
       "<Figure size 640x480 with 1 Axes>"
      ]
     },
     "metadata": {},
     "output_type": "display_data"
    },
    {
     "name": "stdout",
     "output_type": "stream",
     "text": [
      "Max F1 score: 0.812 at threshold: 0.570\n"
     ]
    }
   ],
   "source": [
    "f1_scores = []\n",
    "for p, r in zip(precisions, recalls):\n",
    "    if (p + r) == 0:\n",
    "        f1 = 0\n",
    "    else:\n",
    "        f1 = 2 * (p * r) / (p + r)\n",
    "    f1_scores.append(f1)\n",
    "plt.plot(thresholds, f1_scores, label='F1 Score', color='purple')\n",
    "plt.xlabel('Threshold')\n",
    "plt.ylabel('F1 Score')\n",
    "plt.legend()\n",
    "plt.show()\n",
    "\n",
    "max_f1 = max(f1_scores)\n",
    "best_threshold = thresholds[f1_scores.index(max_f1)]\n",
    "print(f'Max F1 score: {max_f1:.3f} at threshold: {best_threshold:.3f}')\n"
   ]
  },
  {
   "cell_type": "markdown",
   "id": "d83f8489",
   "metadata": {},
   "source": [
    "### Question 5: 5-Fold CV\n",
    "\n",
    "\n",
    "Use the `KFold` class from Scikit-Learn to evaluate our model on 5 different folds:\n",
    "\n",
    "```\n",
    "KFold(n_splits=5, shuffle=True, random_state=1)\n",
    "```\n",
    "\n",
    "* Iterate over different folds of `df_full_train`\n",
    "* Split the data into train and validation\n",
    "* Train the model on train with these parameters: `LogisticRegression(solver='liblinear', C=1.0, max_iter=1000)`\n",
    "* Use AUC to evaluate the model on validation\n",
    "\n",
    "How large is standard deviation of the scores across different folds?\n",
    "\n",
    "- 0.0001\n",
    "- 0.006\n",
    "- 0.06\n",
    "- 0.36"
   ]
  },
  {
   "cell_type": "code",
   "execution_count": 29,
   "id": "dfceec51",
   "metadata": {},
   "outputs": [
    {
     "name": "stdout",
     "output_type": "stream",
     "text": [
      "5-Fold Cross Validation Results:\n",
      "Fold 1 AUC: 0.8061\n",
      "Fold 2 AUC: 0.8714\n",
      "Fold 3 AUC: 0.7754\n",
      "Fold 4 AUC: 0.8018\n",
      "Fold 5 AUC: 0.8558\n",
      "\n",
      "Cross-Validation Results:\n",
      "Mean AUC: 0.8221\n",
      "Standard Deviation: 0.0358\n",
      "AUC scores: [0.8061, 0.8714, 0.7754, 0.8018, 0.8558]\n",
      "Fold 5 AUC: 0.8558\n",
      "\n",
      "Cross-Validation Results:\n",
      "Mean AUC: 0.8221\n",
      "Standard Deviation: 0.0358\n",
      "AUC scores: [0.8061, 0.8714, 0.7754, 0.8018, 0.8558]\n"
     ]
    }
   ],
   "source": [
    "df_full_train_features = df_full_train.drop('converted', axis=1)\n",
    "y_full_train = df_full_train['converted']\n",
    "\n",
    "kf = KFold(n_splits=5, shuffle=True, random_state=1)\n",
    "auc_scores = []\n",
    "\n",
    "print(\"5-Fold Cross Validation Results:\")\n",
    "fold = 1\n",
    "\n",
    "for train_index, val_index in kf.split(df_full_train_features):\n",
    "    X_train_fold = df_full_train_features.iloc[train_index]\n",
    "    X_val_fold = df_full_train_features.iloc[val_index]\n",
    "    y_train_fold = y_full_train.iloc[train_index]\n",
    "    y_val_fold = y_full_train.iloc[val_index]\n",
    "    dv_fold = DictVectorizer(sparse=False)\n",
    "    X_train_encoded = dv_fold.fit_transform(X_train_fold.to_dict(orient='records'))\n",
    "    X_val_encoded = dv_fold.transform(X_val_fold.to_dict(orient='records'))\n",
    "    model_fold = LogisticRegression(solver='liblinear', C=1.0, max_iter=1000)\n",
    "    model_fold.fit(X_train_encoded, y_train_fold)\n",
    "    y_pred_fold = model_fold.predict_proba(X_val_encoded)[:, 1]\n",
    "    auc_fold = roc_auc_score(y_val_fold, y_pred_fold)\n",
    "    auc_scores.append(auc_fold)\n",
    "    \n",
    "    print(f\"Fold {fold} AUC: {auc_fold:.4f}\")\n",
    "    fold += 1\n",
    "\n",
    "mean_auc = np.mean(auc_scores)\n",
    "std_auc = np.std(auc_scores)\n",
    "\n",
    "print(f\"\\nCross-Validation Results:\")\n",
    "print(f\"Mean AUC: {mean_auc:.4f}\")\n",
    "print(f\"Standard Deviation: {std_auc:.4f}\")\n",
    "print(f\"AUC scores: {[round(score, 4) for score in auc_scores]}\")"
   ]
  },
  {
   "cell_type": "markdown",
   "id": "9c3a87bc",
   "metadata": {},
   "source": [
    "### Question 6: Hyperparameter Tuning\n",
    "\n",
    "Now let's use 5-Fold cross-validation to find the best parameter `C`\n",
    "\n",
    "* Iterate over the following `C` values: `[0.000001, 0.001, 1]`\n",
    "* Initialize `KFold` with the same parameters as previously\n",
    "* Use these parameters for the model: `LogisticRegression(solver='liblinear', C=C, max_iter=1000)`\n",
    "* Compute the mean score as well as the std (round the mean and std to 3 decimal digits)\n",
    "\n",
    "Which `C` leads to the best mean score?\n",
    "\n",
    "- 0.000001\n",
    "- 0.001\n",
    "- 1"
   ]
  },
  {
   "cell_type": "code",
   "execution_count": 30,
   "id": "eccf3b8a",
   "metadata": {},
   "outputs": [
    {
     "name": "stdout",
     "output_type": "stream",
     "text": [
      "Hyperparameter Tuning Results:\n",
      "========================================\n",
      "C=1e-06: Mean AUC=0.560, Std=0.024\n",
      "C=0.001: Mean AUC=0.867, Std=0.029\n",
      "C=1: Mean AUC=0.822, Std=0.036\n",
      "========================================\n",
      "Best C value: 0.001\n",
      "Best mean AUC: 0.867\n",
      "\n",
      "Detailed Results:\n",
      "C=1e-06: [0.5572098563239782, 0.5191961842208147, 0.5894909688013137, 0.5582191780821917, 0.5769230769230769]\n",
      "  Mean: 0.5602, Std: 0.0238\n",
      "\n",
      "C=0.001: [0.8608650338718081, 0.8967081085307685, 0.822816482915005, 0.8539850560398504, 0.9000154774802662]\n",
      "  Mean: 0.8669, Std: 0.0287\n",
      "\n",
      "C=1: [0.8060745924216483, 0.8713738368910783, 0.7754320118852139, 0.8018368617683685, 0.8558272713202291]\n",
      "  Mean: 0.8221, Std: 0.0358\n",
      "\n",
      "C=0.001: Mean AUC=0.867, Std=0.029\n",
      "C=1: Mean AUC=0.822, Std=0.036\n",
      "========================================\n",
      "Best C value: 0.001\n",
      "Best mean AUC: 0.867\n",
      "\n",
      "Detailed Results:\n",
      "C=1e-06: [0.5572098563239782, 0.5191961842208147, 0.5894909688013137, 0.5582191780821917, 0.5769230769230769]\n",
      "  Mean: 0.5602, Std: 0.0238\n",
      "\n",
      "C=0.001: [0.8608650338718081, 0.8967081085307685, 0.822816482915005, 0.8539850560398504, 0.9000154774802662]\n",
      "  Mean: 0.8669, Std: 0.0287\n",
      "\n",
      "C=1: [0.8060745924216483, 0.8713738368910783, 0.7754320118852139, 0.8018368617683685, 0.8558272713202291]\n",
      "  Mean: 0.8221, Std: 0.0358\n",
      "\n"
     ]
    }
   ],
   "source": [
    "C_values = [0.000001, 0.001, 1]\n",
    "max_mean_auc = 0\n",
    "best_C = None\n",
    "results = []\n",
    "\n",
    "print(\"Hyperparameter Tuning Results:\")\n",
    "print(\"=\" * 40)\n",
    "\n",
    "for C in C_values:\n",
    "    auc_scores = []\n",
    "    \n",
    "    for train_index, val_index in kf.split(df_full_train_features):\n",
    "        X_train_fold = df_full_train_features.iloc[train_index]\n",
    "        X_val_fold = df_full_train_features.iloc[val_index]\n",
    "        y_train_fold = y_full_train.iloc[train_index]\n",
    "        y_val_fold = y_full_train.iloc[val_index]\n",
    "        dv_fold = DictVectorizer(sparse=False)\n",
    "        X_train_encoded = dv_fold.fit_transform(X_train_fold.to_dict(orient='records'))\n",
    "        X_val_encoded = dv_fold.transform(X_val_fold.to_dict(orient='records'))\n",
    "        model_fold = LogisticRegression(solver='liblinear', C=C, max_iter=1000)\n",
    "        model_fold.fit(X_train_encoded, y_train_fold)\n",
    "        y_pred_fold = model_fold.predict_proba(X_val_encoded)[:, 1]\n",
    "        auc_fold = roc_auc_score(y_val_fold, y_pred_fold)\n",
    "        auc_scores.append(auc_fold)\n",
    "    mean_auc = np.mean(auc_scores)\n",
    "    std_auc = np.std(auc_scores)\n",
    "    \n",
    "    results.append({\n",
    "        'C': C,\n",
    "        'mean_auc': mean_auc,\n",
    "        'std_auc': std_auc,\n",
    "        'auc_scores': auc_scores\n",
    "    })\n",
    "    \n",
    "    print(f\"C={C}: Mean AUC={mean_auc:.3f}, Std={std_auc:.3f}\")\n",
    "    \n",
    "    if mean_auc > max_mean_auc:\n",
    "        max_mean_auc = mean_auc     \n",
    "        best_C = C\n",
    "\n",
    "print(\"=\" * 40)\n",
    "print(f\"Best C value: {best_C}\")\n",
    "print(f\"Best mean AUC: {max_mean_auc:.3f}\")\n",
    "\n",
    "print(\"\\nDetailed Results:\")\n",
    "for result in results:\n",
    "    print(f\"C={result['C']}: {result['auc_scores']}\")\n",
    "    print(f\"  Mean: {result['mean_auc']:.4f}, Std: {result['std_auc']:.4f}\")\n",
    "    print()"
   ]
  },
  {
   "cell_type": "code",
   "execution_count": null,
   "id": "7607a1cb",
   "metadata": {},
   "outputs": [],
   "source": [
    "\n"
   ]
  }
 ],
 "metadata": {
  "kernelspec": {
   "display_name": "ml-zoocamp-env",
   "language": "python",
   "name": "python3"
  },
  "language_info": {
   "codemirror_mode": {
    "name": "ipython",
    "version": 3
   },
   "file_extension": ".py",
   "mimetype": "text/x-python",
   "name": "python",
   "nbconvert_exporter": "python",
   "pygments_lexer": "ipython3",
   "version": "3.13.7"
  }
 },
 "nbformat": 4,
 "nbformat_minor": 5
}
