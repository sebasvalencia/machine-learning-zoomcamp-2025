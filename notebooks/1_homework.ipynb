{
 "cells": [
  {
   "cell_type": "markdown",
   "id": "2d5e95ce",
   "metadata": {},
   "source": [
    "# Homework\n",
    "\n",
    "- Set up the environment\n",
    "- You need to install Python, NumPy, Pandas, Matplotlib and Seaborn. For that, you can use the instructions from 06-environment.md."
   ]
  },
  {
   "cell_type": "markdown",
   "id": "33b3d5a6",
   "metadata": {},
   "source": [
    "### Q1. Pandas version"
   ]
  },
  {
   "cell_type": "code",
   "execution_count": 1,
   "id": "825d5266",
   "metadata": {},
   "outputs": [
    {
     "data": {
      "text/plain": [
       "'2.3.2'"
      ]
     },
     "execution_count": 1,
     "metadata": {},
     "output_type": "execute_result"
    }
   ],
   "source": [
    "import pandas as pd\n",
    "\n",
    "pd.__version__"
   ]
  },
  {
   "cell_type": "markdown",
   "id": "944d0d66",
   "metadata": {},
   "source": [
    "### Q2. Records count\n",
    "- How many records are in the dataset?"
   ]
  },
  {
   "cell_type": "code",
   "execution_count": 2,
   "id": "f90b200b",
   "metadata": {},
   "outputs": [
    {
     "name": "stdout",
     "output_type": "stream",
     "text": [
      "<class 'pandas.core.frame.DataFrame'>\n",
      "RangeIndex: 9704 entries, 0 to 9703\n",
      "Data columns (total 11 columns):\n",
      " #   Column               Non-Null Count  Dtype  \n",
      "---  ------               --------------  -----  \n",
      " 0   engine_displacement  9704 non-null   int64  \n",
      " 1   num_cylinders        9222 non-null   float64\n",
      " 2   horsepower           8996 non-null   float64\n",
      " 3   vehicle_weight       9704 non-null   float64\n",
      " 4   acceleration         8774 non-null   float64\n",
      " 5   model_year           9704 non-null   int64  \n",
      " 6   origin               9704 non-null   object \n",
      " 7   fuel_type            9704 non-null   object \n",
      " 8   drivetrain           9704 non-null   object \n",
      " 9   num_doors            9202 non-null   float64\n",
      " 10  fuel_efficiency_mpg  9704 non-null   float64\n",
      "dtypes: float64(6), int64(2), object(3)\n",
      "memory usage: 834.1+ KB\n",
      "\n",
      "Total records: 9704\n"
     ]
    }
   ],
   "source": [
    "df = pd.read_csv('../data/car_fuel_efficiency.csv')\n",
    "df.info()\n",
    "print(f\"\\nTotal records: {df.shape[0]}\")"
   ]
  },
  {
   "cell_type": "markdown",
   "id": "97307084",
   "metadata": {},
   "source": [
    "### Q3. Fuel types\n",
    "- How many fuel types are presented in the dataset?"
   ]
  },
  {
   "cell_type": "code",
   "execution_count": 4,
   "id": "6d666201",
   "metadata": {},
   "outputs": [
    {
     "name": "stdout",
     "output_type": "stream",
     "text": [
      "Number of unique fuel types: 2\n"
     ]
    }
   ],
   "source": [
    "fuel_types = df['fuel_type'].nunique()\n",
    "print(f\"Number of unique fuel types: {fuel_types}\")"
   ]
  },
  {
   "cell_type": "markdown",
   "id": "4fac1c1d",
   "metadata": {},
   "source": [
    "### Q4. Missing values\n",
    "- How many columns in the dataset have missing values?"
   ]
  },
  {
   "cell_type": "code",
   "execution_count": 5,
   "id": "b2337de8",
   "metadata": {},
   "outputs": [
    {
     "name": "stdout",
     "output_type": "stream",
     "text": [
      "Columns with missing values: 4\n"
     ]
    }
   ],
   "source": [
    "missing_values_count = df.isnull().sum()\n",
    "columns_with_missing_values = missing_values_count[missing_values_count > 0]\n",
    "print(f\"Columns with missing values: {len(columns_with_missing_values)}\")"
   ]
  },
  {
   "cell_type": "markdown",
   "id": "f2fb9938",
   "metadata": {},
   "source": [
    "### Q5. Max fuel efficiency\n",
    "- What's the maximum fuel efficiency of cars from Asia?"
   ]
  },
  {
   "cell_type": "code",
   "execution_count": 6,
   "id": "076a9e09",
   "metadata": {},
   "outputs": [
    {
     "name": "stdout",
     "output_type": "stream",
     "text": [
      "Maximum fuel efficiency of cars from Asia: 23.76 mpg\n"
     ]
    }
   ],
   "source": [
    "fuel_types_of_asia = df['fuel_efficiency_mpg'].value_counts()\n",
    "fuel_types_of_asia\n",
    "max_fuel_efficiency_asia = df[df['origin'] == 'Asia']['fuel_efficiency_mpg'].max()\n",
    "print(f\"Maximum fuel efficiency of cars from Asia: {max_fuel_efficiency_asia:.2f} mpg\")"
   ]
  },
  {
   "cell_type": "markdown",
   "id": "0ed54e67",
   "metadata": {},
   "source": [
    "### Q6. Median value of horsepower\n",
    "- Find the median value of horsepower column in the dataset.\n",
    "- Next, calculate the most frequent value of the same horsepower column.\n",
    "- Use fillna method to fill the missing values in horsepower column with the most frequent value from the previous step.\n",
    "- Now, calculate the median value of horsepower once again.\n",
    "- Has it changed?"
   ]
  },
  {
   "cell_type": "code",
   "execution_count": 7,
   "id": "13a6a838",
   "metadata": {},
   "outputs": [
    {
     "name": "stdout",
     "output_type": "stream",
     "text": [
      "Median horsepower before filling missing values: 149.0\n",
      "Most frequent horsepower: 152.0\n",
      "Median horsepower after filling missing values: 152.0\n",
      "The median HAS changed after filling missing values.\n"
     ]
    }
   ],
   "source": [
    "median_horsepower_before = df['horsepower'].median()\n",
    "most_frequent_horsepower = df['horsepower'].mode()[0]\n",
    "print(f\"Median horsepower before filling missing values: {median_horsepower_before}\")\n",
    "print(f\"Most frequent horsepower: {most_frequent_horsepower}\")\n",
    "\n",
    "df['horsepower'] = df['horsepower'].fillna(most_frequent_horsepower)\n",
    "median_horsepower_after = df['horsepower'].median()\n",
    "print(f\"Median horsepower after filling missing values: {median_horsepower_after}\")\n",
    "\n",
    "if median_horsepower_before == median_horsepower_after:\n",
    "    print(\"The median has NOT changed after filling missing values.\")\n",
    "else:\n",
    "    print(\"The median HAS changed after filling missing values.\")"
   ]
  },
  {
   "cell_type": "markdown",
   "id": "934c3584",
   "metadata": {},
   "source": [
    "### Q7. Sum of weights\n",
    "- Select all the cars from Asia\n",
    "- Select only columns vehicle_weight and model_year\n",
    "- Select the first 7 values\n",
    "- Get the underlying NumPy array. Let's call it X.\n",
    "- Compute matrix-matrix multiplication between the transpose of X and X. To get the transpose, use X.T. Let's call the result XTX.\n",
    "- Invert XTX.\n",
    "- Create an array y with values [1100, 1300, 800, 900, 1000, 1100, 1200].\n",
    "- Multiply the inverse of XTX with the transpose of X, and then multiply the result by y. Call the result w.\n",
    "- What's the sum of all the elements of the result?\n",
    "- Note: You just implemented linear regression. We'll talk about it in the next lesson."
   ]
  },
  {
   "cell_type": "code",
   "execution_count": 10,
   "id": "49cbf969",
   "metadata": {},
   "outputs": [
    {
     "name": "stdout",
     "output_type": "stream",
     "text": [
      "First 7 values:\n",
      "    vehicle_weight  model_year\n",
      "8      2714.219310        2016\n",
      "12     2783.868974        2010\n",
      "14     3582.687368        2007\n",
      "20     2231.808142        2011\n",
      "21     2659.431451        2016\n",
      "34     2844.227534        2014\n",
      "38     3761.994038        2019\n",
      "\n",
      "X shape: (7, 2)\n",
      "\n",
      "XTX:\n",
      "[[62248334.33150762 41431216.5073268 ]\n",
      " [41431216.5073268  28373339.        ]]\n",
      "\n",
      "XTX_inv:\n",
      "[[ 5.71497081e-07 -8.34509443e-07]\n",
      " [-8.34509443e-07  1.25380877e-06]]\n",
      "\n",
      "y: [1100 1300  800  900 1000 1100 1200]\n",
      "\n",
      "w: [0.01386421 0.5049067 ]\n",
      "\n",
      "Sum of all elements in w: 0.5187709081074023\n"
     ]
    },
    {
     "data": {
      "text/plain": [
       "np.float64(0.5187709081074023)"
      ]
     },
     "execution_count": 10,
     "metadata": {},
     "output_type": "execute_result"
    }
   ],
   "source": [
    "# Import numpy for matrix operations\n",
    "import numpy as np\n",
    "\n",
    "# Select all the cars from Asia\n",
    "cars_from_asia = df[df['origin'] == 'Asia']\n",
    "\n",
    "# Select only columns vehicle_weight and model_year\n",
    "selected_columns = cars_from_asia[['vehicle_weight', 'model_year']]\n",
    "\n",
    "# Select the first 7 values\n",
    "first_7_values = selected_columns.head(7)\n",
    "print(\"First 7 values:\")\n",
    "print(first_7_values)\n",
    "\n",
    "# Get the underlying NumPy array. Let's call it X\n",
    "X = first_7_values.to_numpy()\n",
    "print(f\"\\nX shape: {X.shape}\")\n",
    "\n",
    "# Compute matrix-matrix multiplication between the transpose of X and X. To get the transpose, use X.T. Let's call the result XTX\n",
    "XTX = X.T @ X\n",
    "print(f\"\\nXTX:\")\n",
    "print(XTX)\n",
    "\n",
    "# Invert XTX. Let's call the result XTX_inv\n",
    "XTX_inv = np.linalg.inv(XTX)\n",
    "print(f\"\\nXTX_inv:\")\n",
    "print(XTX_inv)\n",
    "\n",
    "# Create an array y with values [1100, 1300, 800, 900, 1000, 1100, 1200]\n",
    "y = np.array([1100, 1300, 800, 900, 1000, 1100, 1200])\n",
    "print(f\"\\ny: {y}\")\n",
    "\n",
    "# Multiply the inverse of XTX with the transpose of X, and then multiply the result by y. Call the result w\n",
    "w = XTX_inv @ X.T @ y\n",
    "print(f\"\\nw: {w}\")\n",
    "\n",
    "# What is the sum of all the elements of the result?\n",
    "result_sum = w.sum()\n",
    "print(f\"\\nSum of all elements in w: {result_sum}\")\n",
    "result_sum"
   ]
  }
 ],
 "metadata": {
  "kernelspec": {
   "display_name": "ml-zoocamp-env",
   "language": "python",
   "name": "python3"
  },
  "language_info": {
   "codemirror_mode": {
    "name": "ipython",
    "version": 3
   },
   "file_extension": ".py",
   "mimetype": "text/x-python",
   "name": "python",
   "nbconvert_exporter": "python",
   "pygments_lexer": "ipython3",
   "version": "3.13.7"
  }
 },
 "nbformat": 4,
 "nbformat_minor": 5
}
