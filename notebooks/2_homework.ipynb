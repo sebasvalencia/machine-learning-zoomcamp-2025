{
 "cells": [
  {
   "cell_type": "markdown",
   "id": "a601146e",
   "metadata": {},
   "source": [
    "# Homework\n",
    "\n",
    "The goal of this homework is to create a regression model for predicting the car fuel efficiency (column 'fuel_efficiency_mpg').\n",
    "\n",
    "Preparing the dataset\n",
    "\n",
    "Use only the following columns:\n",
    "\n",
    "- `engine_displacement`\n",
    "- `horsepower`\n",
    "- `vehicle_weight`\n",
    "- `model_year`\n",
    "- `fuel_efficiency_mpg`"
   ]
  },
  {
   "cell_type": "markdown",
   "id": "a603ff1e",
   "metadata": {},
   "source": [
    "## Question 1\n",
    "### There's one column with missing values. What is it?"
   ]
  },
  {
   "cell_type": "code",
   "execution_count": 23,
   "id": "d8c5e5da",
   "metadata": {},
   "outputs": [],
   "source": [
    "import pandas as pd"
   ]
  },
  {
   "cell_type": "code",
   "execution_count": 24,
   "id": "d6a16673",
   "metadata": {},
   "outputs": [],
   "source": [
    "df = pd.read_csv('../data/car_fuel_efficiency.csv')"
   ]
  },
  {
   "cell_type": "code",
   "execution_count": 25,
   "id": "52f2c351",
   "metadata": {},
   "outputs": [
    {
     "name": "stdout",
     "output_type": "stream",
     "text": [
      "<class 'pandas.core.frame.DataFrame'>\n",
      "RangeIndex: 9704 entries, 0 to 9703\n",
      "Data columns (total 11 columns):\n",
      " #   Column               Non-Null Count  Dtype  \n",
      "---  ------               --------------  -----  \n",
      " 0   engine_displacement  9704 non-null   int64  \n",
      " 1   num_cylinders        9222 non-null   float64\n",
      " 2   horsepower           8996 non-null   float64\n",
      " 3   vehicle_weight       9704 non-null   float64\n",
      " 4   acceleration         8774 non-null   float64\n",
      " 5   model_year           9704 non-null   int64  \n",
      " 6   origin               9704 non-null   object \n",
      " 7   fuel_type            9704 non-null   object \n",
      " 8   drivetrain           9704 non-null   object \n",
      " 9   num_doors            9202 non-null   float64\n",
      " 10  fuel_efficiency_mpg  9704 non-null   float64\n",
      "dtypes: float64(6), int64(2), object(3)\n",
      "memory usage: 834.1+ KB\n"
     ]
    }
   ],
   "source": [
    "df.info()"
   ]
  },
  {
   "cell_type": "code",
   "execution_count": null,
   "id": "493f34e1",
   "metadata": {},
   "outputs": [
    {
     "data": {
      "text/plain": [
       "['num_cylinders', 'horsepower', 'acceleration', 'num_doors']"
      ]
     },
     "execution_count": 9,
     "metadata": {},
     "output_type": "execute_result"
    }
   ],
   "source": [
    "df.columns[df.isna().any()].tolist()\n"
   ]
  },
  {
   "cell_type": "markdown",
   "id": "861e5deb",
   "metadata": {},
   "source": [
    "## Question 2\n",
    "### What's the median (50% percentile) for variable 'horsepower'?"
   ]
  },
  {
   "cell_type": "code",
   "execution_count": 10,
   "id": "e60f1593",
   "metadata": {},
   "outputs": [
    {
     "data": {
      "text/plain": [
       "149.0"
      ]
     },
     "execution_count": 10,
     "metadata": {},
     "output_type": "execute_result"
    }
   ],
   "source": [
    "df['horsepower'].median()"
   ]
  },
  {
   "cell_type": "code",
   "execution_count": 13,
   "id": "a2c4d410",
   "metadata": {},
   "outputs": [],
   "source": [
    "df.columns = df.columns.str.lower().str.replace(' ', '_')"
   ]
  },
  {
   "cell_type": "markdown",
   "id": "12ad982e",
   "metadata": {},
   "source": [
    "## Question 3\n",
    "    We need to deal with missing values for the column from Q1.\n",
    "    We have two options: fill it with 0 or with the mean of this variable.\n",
    "    Try both options. For each, train a linear regression model without regularization using the code from the lessons.\n",
    "    For computing the mean, use the training only!\n",
    "    Use the validation dataset to evaluate the models and compare the RMSE of each option.\n",
    "    Round the RMSE scores to 2 decimal digits using round(score, 2)\n",
    "    Which option gives better RMSE?"
   ]
  },
  {
   "cell_type": "code",
   "execution_count": null,
   "id": "15d9b118",
   "metadata": {},
   "outputs": [
    {
     "name": "stdout",
     "output_type": "stream",
     "text": [
      "   engine_displacement  horsepower  vehicle_weight  model_year  \\\n",
      "0                  170       159.0     3413.433759        2003   \n",
      "1                  130        97.0     3149.664934        2007   \n",
      "2                  170        78.0     3079.038997        2018   \n",
      "3                  220         NaN     2542.392402        2009   \n",
      "4                  210       140.0     3460.870990        2009   \n",
      "\n",
      "   fuel_efficiency_mpg  \n",
      "0            13.231729  \n",
      "1            13.688217  \n",
      "2            14.246341  \n",
      "3            16.912736  \n",
      "4            12.488369  \n",
      "engine_displacement      0\n",
      "horsepower             708\n",
      "vehicle_weight           0\n",
      "model_year               0\n",
      "fuel_efficiency_mpg      0\n",
      "dtype: int64\n",
      "Train: 5822 samples\n",
      "Validation: 3882 samples\n",
      "\n",
      "=== OPCIÓN 1: Llenar con 0 ===\n",
      "RMSE (fill with 0): 0.52\n",
      "\n",
      "=== OPCIÓN 2: Llenar con la media ===\n",
      "Medias calculadas del train: engine_displacement     200.372724\n",
      "horsepower              149.752081\n",
      "vehicle_weight         2999.471344\n",
      "model_year             2011.513569\n",
      "dtype: float64\n",
      "RMSE (fill with mean): 0.46\n",
      "\n",
      "=== COMPARACIÓN ===\n",
      "RMSE con 0: 0.52\n",
      "RMSE con media: 0.46\n",
      "✅ Opción 2 (llenar con media) es mejor.\n"
     ]
    }
   ],
   "source": [
    "from sklearn.model_selection import train_test_split\n",
    "from sklearn.linear_model import LinearRegression\n",
    "from sklearn.metrics import root_mean_squared_error\n",
    "\n",
    "columns_to_use = [\n",
    "    'engine_displacement',\n",
    "    'horsepower', \n",
    "    'vehicle_weight',\n",
    "    'model_year',\n",
    "    'fuel_efficiency_mpg'\n",
    "]\n",
    "\n",
    "df_filtered = df[columns_to_use].copy()\n",
    "\n",
    "print(df_filtered.head())\n",
    "print(df_filtered.isnull().sum())\n",
    "\n",
    "X = df_filtered.drop('fuel_efficiency_mpg', axis=1)\n",
    "y = df_filtered['fuel_efficiency_mpg']\n",
    "\n",
    "X_train, X_val, y_train, y_val = train_test_split(X, y, test_size=0.4, random_state=42)\n",
    "\n",
    "print(f\"Train: {X_train.shape[0]} samples\")\n",
    "print(f\"Validation: {X_val.shape[0]} samples\")\n",
    "\n",
    "# OPTION 1: Fill missing values with 0\n",
    "print(\"\\n=== OPTION 1: Fill missing values with 0 ===\")\n",
    "X_train_zero = X_train.copy()\n",
    "X_val_zero = X_val.copy()\n",
    "\n",
    "X_train_zero = X_train_zero.fillna(0)\n",
    "X_val_zero = X_val_zero.fillna(0)\n",
    "\n",
    "# Training model\n",
    "model_zero = LinearRegression()\n",
    "model_zero.fit(X_train_zero, y_train)\n",
    "\n",
    "# Evaluate\n",
    "y_pred_zero = model_zero.predict(X_val_zero)\n",
    "rmse_zero = root_mean_squared_error(y_val, y_pred_zero)\n",
    "print(f\"RMSE (fill with 0): {round(rmse_zero, 2)}\")\n",
    "\n",
    "# OPTION 2: Fill missing values with the mean (ONLY from the training set)\n",
    "print(\"\\n=== OPTION 2: Fill missing values with the mean ===\")\n",
    "X_train_mean = X_train.copy()\n",
    "X_val_mean = X_val.copy()\n",
    "\n",
    "train_means = X_train_mean.mean()\n",
    "print(f\"Mean values from the training set: {train_means}\")\n",
    "\n",
    "X_train_mean = X_train_mean.fillna(train_means)\n",
    "X_val_mean = X_val_mean.fillna(train_means)\n",
    "\n",
    "# Training model\n",
    "model_mean = LinearRegression()\n",
    "model_mean.fit(X_train_mean, y_train)\n",
    "\n",
    "# Evaluate\n",
    "y_pred_mean = model_mean.predict(X_val_mean)\n",
    "rmse_mean = root_mean_squared_error(y_val, y_pred_mean)\n",
    "print(f\"RMSE (fill with mean): {round(rmse_mean, 2)}\")\n",
    "\n",
    "# Compare results\n",
    "print(f\"\\nCOMPARE\")\n",
    "print(f\"RMSE w 0: {round(rmse_zero, 2)}\")\n",
    "print(f\"RMSE w mean: {round(rmse_mean, 2)}\")\n",
    "\n",
    "if rmse_zero < rmse_mean:\n",
    "    print(\"Option 1 (fill with 0) is better.\")\n",
    "else:\n",
    "    print(\"Option 2 (fill with mean) is better.\")"
   ]
  },
  {
   "cell_type": "code",
   "execution_count": null,
   "id": "54e02361",
   "metadata": {},
   "outputs": [
    {
     "name": "stdout",
     "output_type": "stream",
     "text": [
      "Columnas disponibles:\n",
      "['engine_displacement', 'num_cylinders', 'horsepower', 'vehicle_weight', 'acceleration', 'model_year', 'origin', 'fuel_type', 'drivetrain', 'num_doors', 'fuel_efficiency_mpg']\n",
      "\n",
      "Forma del dataset: (9704, 11)\n"
     ]
    }
   ],
   "source": [
    "print(\"Available Columns:\")\n",
    "print(df.columns.tolist())\n",
    "print(\"\\nDataset:\", df.shape)"
   ]
  },
  {
   "cell_type": "markdown",
   "id": "7b645c1e",
   "metadata": {},
   "source": [
    "## Question 4\n",
    "    Now let's train a regularized linear regression.\n",
    "    For this question, fill the NAs with 0.\n",
    "    Try different values of r from this list: [0, 0.01, 0.1, 1, 5, 10, 100].\n",
    "    Use RMSE to evaluate the model on the validation dataset.\n",
    "    Round the RMSE scores to 2 decimal digits.\n",
    "    Which r gives the best RMSE?\n",
    "    If multiple options give the same best RMSE, select the smallest r."
   ]
  },
  {
   "cell_type": "code",
   "execution_count": null,
   "id": "3e15b361",
   "metadata": {},
   "outputs": [
    {
     "name": "stdout",
     "output_type": "stream",
     "text": [
      "r: 0, RMSE: 0.52\n",
      "r: 0.01, RMSE: 0.52\n",
      "r: 0.1, RMSE: 0.52\n",
      "r: 1, RMSE: 0.52\n",
      "r: 5, RMSE: 0.52\n",
      "r: 10, RMSE: 0.52\n",
      "r: 100, RMSE: 0.52\n",
      "\n",
      "Best r: 0 with RMSE: 0.52\n",
      "\n",
      "=== COMPARACIÓN ===\n",
      "RMSE con 0: 0.52\n",
      "RMSE con media: 0.46\n"
     ]
    }
   ],
   "source": [
    "from sklearn.linear_model import Ridge\n",
    "r_values = [0, 0.01, 0.1, 1, 5, 10, 100]\n",
    "best_rmse = float('inf')\n",
    "best_r = None\n",
    "X_train_ridge = X_train.fillna(0)\n",
    "X_val_ridge = X_val.fillna(0)\n",
    "for r in r_values:\n",
    "    model_ridge = Ridge(alpha=r)\n",
    "    model_ridge.fit(X_train_ridge, y_train)\n",
    "    y_pred_ridge = model_ridge.predict(X_val_ridge)\n",
    "    rmse_ridge = root_mean_squared_error(y_val, y_pred_ridge)\n",
    "    rmse_ridge_rounded = round(rmse_ridge, 2)\n",
    "    print(f\"r: {r}, RMSE: {rmse_ridge_rounded}\")\n",
    "    if rmse_ridge_rounded < best_rmse:\n",
    "        best_rmse = rmse_ridge_rounded\n",
    "        best_r = r\n",
    "print(f\"\\nBest r: {best_r} with RMSE: {best_rmse}\")\n",
    "\n",
    "print(f\"\\n=== COMPARACIÓN ===\")\n",
    "print(f\"RMSE with 0: {round(rmse_zero, 2)}\")\n",
    "print(f\"RMSE with mean: {round(rmse_mean, 2)}\")\n"
   ]
  },
  {
   "cell_type": "markdown",
   "id": "83f82c7f",
   "metadata": {},
   "source": [
    "## Question 5\n",
    "    We used seed 42 for splitting the data. Let's find out how selecting the seed influences our score.\n",
    "    Try different seed values: [0, 1, 2, 3, 4, 5, 6, 7, 8, 9].\n",
    "    For each seed, do the train/validation/test split with 60%/20%/20% distribution.\n",
    "    Fill the missing values with 0 and train a model without regularization.\n",
    "    For each seed, evaluate the model on the validation dataset and collect the RMSE scores.\n",
    "    What's the standard deviation of all the scores? To compute the standard deviation, use np.std.\n",
    "    Round the result to 3 decimal digits (round(std, 3))"
   ]
  },
  {
   "cell_type": "code",
   "execution_count": null,
   "id": "34f31d16",
   "metadata": {},
   "outputs": [
    {
     "name": "stdout",
     "output_type": "stream",
     "text": [
      "\n",
      "Standard deviation of RMSE scores: 0.005\n"
     ]
    }
   ],
   "source": [
    "import numpy as np\n",
    "seeds = list(range(10))\n",
    "rmse_scores = []\n",
    "for seed in seeds:\n",
    "    X_train_seed, X_val_seed, y_train_seed, y_val_seed = train_test_split(X, y, test_size=0.4, random_state=seed)\n",
    "    X_train_seed = X_train_seed.fillna(0)\n",
    "    X_val_seed = X_val_seed.fillna(0)\n",
    "    model_seed = LinearRegression()\n",
    "    model_seed.fit(X_train_seed, y_train_seed)\n",
    "    y_pred_seed = model_seed.predict(X_val_seed)\n",
    "    rmse_seed = root_mean_squared_error(y_val_seed, y_pred_seed)\n",
    "    rmse_scores.append(rmse_seed)\n",
    "std_rmse = np.std(rmse_scores, ddof=1)\n",
    "print(f\"\\nStandard deviation of RMSE scores: {round(std_rmse, 3)}\")\n",
    "\n"
   ]
  },
  {
   "cell_type": "markdown",
   "id": "0b2b013d",
   "metadata": {},
   "source": [
    "## Question 6\n",
    "    Split the dataset like previously, use seed 9.\n",
    "    Combine train and validation datasets.\n",
    "    Fill the missing values with 0 and train a model with r=0.001.\n",
    "    What's the RMSE on the test dataset?"
   ]
  },
  {
   "cell_type": "code",
   "execution_count": null,
   "id": "d130d612",
   "metadata": {},
   "outputs": [
    {
     "name": "stdout",
     "output_type": "stream",
     "text": [
      "\n",
      "RMSE on the test dataset: 0.52\n"
     ]
    }
   ],
   "source": [
    "X_temp, X_test, y_temp, y_test = train_test_split(X, y, test_size=0.2, random_state=9)\n",
    "X_train_final, X_val_final, y_train_final, y_val_final = train_test_split(X_temp, y_temp, test_size=0.25, random_state=9)  # 0.25 x 0.8 = 0.2\n",
    "X_train_final = X_train_final.fillna(0)\n",
    "X_val_final = X_val_final.fillna(0)\n",
    "X_test = X_test.fillna(0)\n",
    "model_final = Ridge(alpha=0.001)\n",
    "model_final.fit(X_train_final, y_train_final)\n",
    "y_pred_test = model_final.predict(X_test)\n",
    "rmse_test = root_mean_squared_error(y_test, y_pred_test)\n",
    "print(f\"\\nRMSE on the test dataset: {round(rmse_test, 2)}\")\n"
   ]
  }
 ],
 "metadata": {
  "kernelspec": {
   "display_name": "ml-zoocamp-env",
   "language": "python",
   "name": "python3"
  },
  "language_info": {
   "codemirror_mode": {
    "name": "ipython",
    "version": 3
   },
   "file_extension": ".py",
   "mimetype": "text/x-python",
   "name": "python",
   "nbconvert_exporter": "python",
   "pygments_lexer": "ipython3",
   "version": "3.13.7"
  }
 },
 "nbformat": 4,
 "nbformat_minor": 5
}
